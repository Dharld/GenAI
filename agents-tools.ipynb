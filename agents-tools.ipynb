{
 "cells": [
  {
   "cell_type": "markdown",
   "id": "4da4d5ac",
   "metadata": {},
   "source": [
    "## Agents and Tools\n"
   ]
  },
  {
   "cell_type": "markdown",
   "id": "1caae071",
   "metadata": {},
   "source": [
    "### Agents: Agents enable LLMs to work with tools that perform various tasks\n",
    "\n",
    "To use agents, we require three things:\n",
    "\n",
    "- A base LLM,\n",
    "- A tool that we will be interacting with,\n",
    "- An agent to control the interaction.\n"
   ]
  },
  {
   "cell_type": "markdown",
   "id": "2a3ef60a",
   "metadata": {},
   "source": [
    "### Install the following libraries if not installed already\n"
   ]
  },
  {
   "cell_type": "code",
   "execution_count": 4,
   "id": "99af90ba",
   "metadata": {},
   "outputs": [],
   "source": [
    "# !pip install langchain\n",
    "# !pip install langchain-community\n",
    "# !pip install langchain-openai\n",
    "# !pip install python-dotenv\n",
    "# !pip install langchain-google-genai\n",
    "# !pip install google-search-results"
   ]
  },
  {
   "cell_type": "markdown",
   "id": "4323f74b",
   "metadata": {},
   "source": [
    "### In the following example, we will use the Math tool to perform some simple math operations\n"
   ]
  },
  {
   "cell_type": "code",
   "execution_count": 1,
   "id": "a3f6355f",
   "metadata": {},
   "outputs": [
    {
     "data": {
      "text/plain": [
       "True"
      ]
     },
     "execution_count": 1,
     "metadata": {},
     "output_type": "execute_result"
    }
   ],
   "source": [
    "from dotenv import load_dotenv\n",
    "from langchain_openai import OpenAI\n",
    "from langchain_core.prompts import PromptTemplate\n",
    "from langchain.agents import AgentExecutor, create_react_agent\n",
    "import os\n",
    "load_dotenv()"
   ]
  },
  {
   "cell_type": "code",
   "execution_count": 2,
   "id": "ac95a002",
   "metadata": {},
   "outputs": [],
   "source": [
    "llm = OpenAI(model_name=\"gpt-3.5-turbo-instruct\", openai_api_key=os.getenv(\"OPENAI_API_KEY\"), temperature=0.5)\n",
    "#llm = GoogleGenerativeAI(model=\"gemini-1.5-pro\",  google_api_key=os.getenv(\"GOOGLE_API_KEY\"), temperature=0.5)"
   ]
  },
  {
   "cell_type": "code",
   "execution_count": 3,
   "id": "83dabb48",
   "metadata": {},
   "outputs": [],
   "source": [
    "from langchain.chains import LLMMathChain\n",
    "from langchain.agents import Tool"
   ]
  },
  {
   "cell_type": "code",
   "execution_count": 4,
   "id": "40f27906",
   "metadata": {},
   "outputs": [],
   "source": [
    "\n",
    "llm_math = LLMMathChain.from_llm(OpenAI(model_name=\"gpt-3.5-turbo-instruct\", openai_api_key=os.getenv(\"OPENAI_API_KEY\"), temperature=0))\n",
    "\n",
    "math_tool = Tool(\n",
    "    name='Calculator',\n",
    "    func=llm_math.run,\n",
    "    description='Useful for when you need to answer questions about math.'\n",
    ")\n",
    "\n",
    "# when giving tools to LLM, we must pass as list of tools\n",
    "tools = [math_tool]  # is a list of possible Tools that your agent can use"
   ]
  },
  {
   "cell_type": "code",
   "execution_count": 14,
   "id": "7c918e49",
   "metadata": {},
   "outputs": [
    {
     "name": "stdout",
     "output_type": "stream",
     "text": [
      "Calculator --- Useful for when you need to answer questions about math.\n"
     ]
    }
   ],
   "source": [
    "print(tools[0].name, \"---\", tools[0].description)"
   ]
  },
  {
   "cell_type": "markdown",
   "id": "e0ceb3c1",
   "metadata": {},
   "source": [
    "## Now create an Agent\n",
    "\n",
    "#### Zero-shot ReAct\n",
    "\n",
    "The Zero-shot ReAct Agent is a language generation model that can create realistic contexts even without being trained on specific data. It can be used for various tasks such as generating creative text formats, language translation, and generating different types of creative content.\n"
   ]
  },
  {
   "cell_type": "code",
   "execution_count": 8,
   "id": "7fcec1ac",
   "metadata": {},
   "outputs": [],
   "source": [
    "# Define the Prompt Template\n",
    "\n",
    "template = '''To accurately solve the following questions, please utilize the available tools effectively:\n",
    "{tools}\n",
    "Follow this structured format:\n",
    "Question: the input question you must answer\n",
    "Thought: reflect on the best approach to take\n",
    "Action: select one of the following actions: [{tool_names}]\n",
    "Action Input: provide the necessary input for the action, each new thought should be separated by a new line\n",
    "Observation: document the result of the action\n",
    "... (this Thought/Action/Action Input/Observation can repeat as needed)\n",
    "Thought: I have gathered enough information to conclude\n",
    "Final Answer: the final answer to the original input question\n",
    "Additional Instructions:\n",
    "Example:\n",
    "    Question: What is the square root of 25?\n",
    "    Thought: I will use the calculator tool to determine the square root of 25\n",
    "    Action: Calculator\n",
    "    Action Input: sqrt(25)\n",
    "    Observation: The result of the action is 5\n",
    "    Thought: I have gathered enough information to conclude\n",
    "    Final Answer: The square root of 25 is 5\n",
    "Begin!\n",
    "Question: {input}\n",
    "Thought: {agent_scratchpad}'''\n",
    "\n",
    "prompt = PromptTemplate.from_template(template)\n",
    "\n",
    "#zero_shot_agent = initialize_agent(    - deprecated use\n",
    "zero_shot_agent = create_react_agent(\n",
    "#    agent=\"zero-shot-react-description\",\n",
    "    tools=tools,\n",
    "    llm=llm,\n",
    "    prompt=prompt\n",
    "#    verbose=True,\n",
    "#    max_iterations=10\n",
    ")\n",
    "\n",
    "agent_executor = AgentExecutor(\n",
    "    agent=zero_shot_agent,\n",
    "    tools=tools,\n",
    "    verbose=True,\n",
    "    return_intermediate_steps=True,\n",
    ")"
   ]
  },
  {
   "cell_type": "code",
   "execution_count": 6,
   "id": "5e0ff035",
   "metadata": {},
   "outputs": [
    {
     "name": "stdout",
     "output_type": "stream",
     "text": [
      "\n",
      "\n",
      "\u001b[1m> Entering new AgentExecutor chain...\u001b[0m\n",
      "\u001b[32;1m\u001b[1;3mI will use the calculator tool to multiply 2 and 3\n",
      "Action: Calculator\n",
      "Action Input: 2 * 3\u001b[0m\u001b[36;1m\u001b[1;3mAnswer: 6\u001b[0m\u001b[32;1m\u001b[1;3m I have gathered enough information to conclude\n",
      "Final Answer: 2 * 3 = 6\u001b[0m\n",
      "\n",
      "\u001b[1m> Finished chain.\u001b[0m\n"
     ]
    }
   ],
   "source": [
    "response = agent_executor.invoke(\n",
    "    {\"input\": \"What is 2 * 3?\"})"
   ]
  },
  {
   "cell_type": "code",
   "execution_count": 46,
   "id": "249d215b",
   "metadata": {},
   "outputs": [
    {
     "name": "stdout",
     "output_type": "stream",
     "text": [
      "\n",
      "\n",
      "\u001b[1m> Entering new AgentExecutor chain...\u001b[0m\n",
      "\u001b[32;1m\u001b[1;3mI will use the calculator tool to determine the total area of the house by calculating the area of each room and adding them together.\n",
      "Action: Calculator\n",
      "Action Input: (5*5) + (5*5) + (7*6) + (3*2)\u001b[0m\u001b[36;1m\u001b[1;3mAnswer: 98\u001b[0m\u001b[32;1m\u001b[1;3mI have gathered enough information to conclude\n",
      "Final Answer: The total area of the house is 98 square metres.\u001b[0m\n",
      "\n",
      "\u001b[1m> Finished chain.\u001b[0m\n"
     ]
    }
   ],
   "source": [
    "# problem = \"\"\"\n",
    "#        You are building a house. There are two bedrooms of 5 metres by 5 metres each and drawing cum open kitchen \n",
    "#        is 7 metres by 6 metres and balcony of 3 metres by 2 metres. \n",
    "#        What is the total area of your house?\n",
    "#        \"\"\"\n",
    "\n",
    "response = agent_executor.invoke(\n",
    "    {\"input\": \"\"\"\n",
    "        You are building a house. There are two bedrooms of 5 metres by 5 metres each and drawing cum open kitchen \n",
    "        is 7 metres by 6 metres and balcony of 3 metres by 2 metres. \n",
    "        What is the total area of your house?\n",
    "        \"\"\"})"
   ]
  },
  {
   "cell_type": "markdown",
   "id": "6e0cc231",
   "metadata": {},
   "source": [
    "## Using mutiple Tools\n",
    "\n",
    "In the following example, we will be using the Duck Duck Go (or SerpAPI) search API as a Tool combined with the Math Tool\n",
    "We will then give the Agent a problem that initiates a search first followed by a Calculation.\n"
   ]
  },
  {
   "cell_type": "code",
   "execution_count": 9,
   "id": "4fc1448a",
   "metadata": {},
   "outputs": [],
   "source": [
    "# Define the Tools\n",
    "\n",
    "from langchain.tools import DuckDuckGoSearchRun\n",
    "from langchain_community.utilities import SerpAPIWrapper\n",
    "\n",
    "#search = DuckDuckGoSearchRun()   # May give Rate limit error\n",
    "search = SerpAPIWrapper(\n",
    "            serpapi_api_key=os.getenv(\"SERPER_API_KEY\")) # Create your API Key from https://serpapi.com/\n",
    "\n",
    "search_tool = Tool.from_function(\n",
    "    func=search.run,\n",
    "    name=\"Search\",\n",
    "    description=\"useful for when you need to search the internet for information\"\n",
    ")\n",
    "\n",
    "# llm_math_chain = LLMMathChain(llm=llm, verbose=True)\n",
    "\n",
    "\n",
    "llm_math_chain = LLMMathChain.from_llm(OpenAI(model_name=\"gpt-3.5-turbo-instruct\", openai_api_key=os.getenv(\"OPENAI_API_KEY\"), temperature=0.5))\n",
    "#llm_math_chain = LLMMathChain.from_llm(GoogleGenerativeAI(model=\"gemini-1.5-pro\",  google_api_key=os.getenv(\"GOOGLE_API_KEY\"), temperature=0.5))\n",
    "\n",
    "math_tool = Tool.from_function(\n",
    "    func=llm_math_chain.run,\n",
    "    name=\"Calculator\",\n",
    "    description=\"Useful for when you are asked to perform math calculations\"\n",
    ")"
   ]
  },
  {
   "cell_type": "code",
   "execution_count": 51,
   "id": "272a83e6",
   "metadata": {},
   "outputs": [],
   "source": [
    "# Define the Agent\n",
    "\n",
    "tools = [search_tool, math_tool]\n",
    "\n",
    "zero_shot_agent = create_react_agent(\n",
    "    tools=tools,\n",
    "    llm=llm,\n",
    "    prompt=prompt\n",
    ")\n",
    "\n",
    "agent_executor = AgentExecutor(\n",
    "    agent=zero_shot_agent,\n",
    "    tools=tools,\n",
    "    verbose=True,\n",
    "    return_intermediate_steps=True,\n",
    ")"
   ]
  },
  {
   "cell_type": "code",
   "execution_count": 19,
   "id": "0f3387c9",
   "metadata": {},
   "outputs": [
    {
     "name": "stdout",
     "output_type": "stream",
     "text": [
      "\n",
      "\n",
      "\u001b[1m> Entering new AgentExecutor chain...\u001b[0m\n",
      "\u001b[32;1m\u001b[1;3mI will use the calculator tool to convert the FC Barcelona valuation from Google Finance to both USD and XFA values\n",
      "Action: Calculator\n",
      "Action Input: FC Barcelona valuation in USD: 1,000,000,000\n",
      "FC Barcelona valuation in XFA: 800,000,000\u001b[0m\u001b[36;1m\u001b[1;3mAnswer: 80.0\u001b[0m\u001b[32;1m\u001b[1;3mI have gathered enough information to conclude\n",
      "Final Answer: The FC Barcelona valuation in USD is 1,000,000,000 and in XFA is 800,000,000. \u001b[0m\n",
      "\n",
      "\u001b[1m> Finished chain.\u001b[0m\n"
     ]
    }
   ],
   "source": [
    "# Run the Agent with the problem\n",
    "\n",
    "response = agent_executor.invoke(\n",
    "    {\"input\": \"\"\"Get FC Barcelona valuation from Google Finance and display in both USD and XFA values\"\"\"})"
   ]
  },
  {
   "cell_type": "markdown",
   "id": "3f7a5e46",
   "metadata": {},
   "source": [
    "## Create a custom tool\n"
   ]
  },
  {
   "cell_type": "code",
   "execution_count": 53,
   "id": "1d3dbf54",
   "metadata": {},
   "outputs": [],
   "source": [
    "from langchain.tools import BaseTool\n",
    "from langchain_core.output_parsers import JsonOutputParser\n",
    "from langchain.tools import tool\n",
    "\n",
    "@tool(\"JSON_Response\", return_direct=True)\n",
    "def StructuredResponseTool(question: str):\n",
    "    \"\"\"\n",
    "    use this tool to send a prompt and get a JSON returned \n",
    "    with three fields - Topic, Question_Details and Detailed_Response\n",
    "    \"\"\"\n",
    "    json_prompt = PromptTemplate.from_template(\n",
    "    \"\"\"Return a JSON object with an `answer` key that answers the following question: {question}. \n",
    "        The JSON object will have three fields - Topic, Question_Details and Detailed_Response\"\"\"\n",
    "    )\n",
    "\n",
    "    model = OpenAI(model_name=\"gpt-3.5-turbo-instruct\", temperature=0.5)\n",
    "\n",
    "    json_parser = JsonOutputParser()\n",
    "    json_chain = json_prompt | model | json_parser\n",
    "    x = json_chain.invoke({\"question\": question})\n",
    "    return x"
   ]
  },
  {
   "cell_type": "code",
   "execution_count": 54,
   "id": "b1ca4373",
   "metadata": {},
   "outputs": [],
   "source": [
    "from langchain.chat_models import ChatOpenAI\n",
    "from langchain.prompts import PromptTemplate\n",
    "from langchain.chains.conversation.memory import ConversationBufferWindowMemory"
   ]
  },
  {
   "cell_type": "code",
   "execution_count": 26,
   "id": "965a3838",
   "metadata": {},
   "outputs": [],
   "source": [
    "from langchain.agents import initialize_agent\n",
    "\n",
    "tools = [StructuredResponseTool]\n",
    "\n",
    "# initialize agent with tools\n",
    "\"\"\"zero_shot_agent = initialize_agent(\n",
    "    agent=\"zero-shot-react-description\",\n",
    "    tools=tools,\n",
    "    llm=llm,\n",
    "    verbose=True,\n",
    "    max_iterations=10\n",
    ")\"\"\"\n",
    "\n",
    "zero_shot_agent = create_react_agent(\n",
    "    tools=tools,\n",
    "    llm=llm,\n",
    "    prompt=prompt\n",
    ")\n",
    "\n",
    "agent_executor = AgentExecutor(\n",
    "    agent=zero_shot_agent,\n",
    "    tools=tools,\n",
    "    verbose=True,\n",
    "    return_intermediate_steps=True,\n",
    ")"
   ]
  },
  {
   "cell_type": "code",
   "execution_count": 30,
   "id": "ebe8b063",
   "metadata": {},
   "outputs": [
    {
     "name": "stdout",
     "output_type": "stream",
     "text": [
      "\n",
      "\n",
      "\u001b[1m> Entering new AgentExecutor chain...\u001b[0m\n",
      "\u001b[32;1m\u001b[1;3m I should use the JSON_Response tool to get the answer to this question\n",
      "Action: JSON_Response\n",
      "Action Input: \"Which is the top football team in the world and how?\"\u001b[0m\u001b[36;1m\u001b[1;3m{'Topic': 'Football', 'Question_Details': 'Which is the top football team in the world and how?', 'Detailed_Response': \"According to the FIFA World Rankings, the top football team in the world is currently Belgium. This is determined by a points system based on a team's performance in international matches. Belgium has consistently performed well in recent years, reaching the semi-finals of the 2018 FIFA World Cup and finishing third in the 2019 UEFA Nations League. Their success can be attributed to a combination of talented players, strong team chemistry, and a well-structured national football program. However, rankings can change quickly in the world of football, so it is important to note that the top team may change in the future.\"}\u001b[0m\n",
      "\u001b[32;1m\u001b[1;3m\u001b[0m\n",
      "\n",
      "\u001b[1m> Finished chain.\u001b[0m\n"
     ]
    }
   ],
   "source": [
    "# zero_shot_agent.run(input=\"Which is the top football team in the world and how, the response should have three fields in the JSON - topic of the question, the question and the detailed response\")\n",
    "\n",
    "response = agent_executor.invoke(\n",
    "    {\"input\": \"\"\"Which is the top football team in the world and how, \n",
    "                 the response should have three fields in the JSON - 1) topic of the question, \n",
    "                 2) the question and 3) the detailed response\"\"\"})"
   ]
  }
 ],
 "metadata": {
  "kernelspec": {
   "display_name": "Python 3 (ipykernel)",
   "language": "python",
   "name": "python3"
  },
  "language_info": {
   "codemirror_mode": {
    "name": "ipython",
    "version": 3
   },
   "file_extension": ".py",
   "mimetype": "text/x-python",
   "name": "python",
   "nbconvert_exporter": "python",
   "pygments_lexer": "ipython3",
   "version": "3.8.10"
  }
 },
 "nbformat": 4,
 "nbformat_minor": 5
}
